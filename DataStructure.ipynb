{
 "cells": [
  {
   "cell_type": "markdown",
   "metadata": {},
   "source": [
    "# *Lists*"
   ]
  },
  {
   "cell_type": "code",
   "execution_count": 1,
   "metadata": {},
   "outputs": [],
   "source": [
    "gene_expression = ['gene', 5.16e-08, 0.00138511, 7.33e-08]"
   ]
  },
  {
   "cell_type": "code",
   "execution_count": 2,
   "metadata": {
    "tags": []
   },
   "outputs": [
    {
     "name": "stdout",
     "output_type": "stream",
     "text": [
      "7.33e-08\n",
      "7.33e-08\n"
     ]
    }
   ],
   "source": [
    "# Access the last element of the list\n",
    "print(gene_expression[3])\n",
    "print(gene_expression[-1])\n",
    "\n",
    "# Both are eqaully likely"
   ]
  },
  {
   "cell_type": "code",
   "execution_count": 3,
   "metadata": {
    "tags": []
   },
   "outputs": [
    {
     "name": "stdout",
     "output_type": "stream",
     "text": [
      "['Lif', 5.16e-08, 0.00138511, 7.33e-08]\n"
     ]
    }
   ],
   "source": [
    "# Changing individual list element\n",
    "gene_expression[0] = 'Lif'\n",
    "print(gene_expression)"
   ]
  },
  {
   "cell_type": "code",
   "execution_count": 4,
   "metadata": {},
   "outputs": [
    {
     "ename": "TypeError",
     "evalue": "'str' object does not support item assignment",
     "output_type": "error",
     "traceback": [
      "\u001b[1;31m---------------------------------------------------------------------------\u001b[0m",
      "\u001b[1;31mTypeError\u001b[0m                                 Traceback (most recent call last)",
      "\u001b[1;32m<ipython-input-4-d73c33e97944>\u001b[0m in \u001b[0;36m<module>\u001b[1;34m\u001b[0m\n\u001b[0;32m      2\u001b[0m \u001b[1;33m\u001b[0m\u001b[0m\n\u001b[0;32m      3\u001b[0m \u001b[0mmotif\u001b[0m \u001b[1;33m=\u001b[0m \u001b[1;34m'nacgggtca'\u001b[0m\u001b[1;33m\u001b[0m\u001b[1;33m\u001b[0m\u001b[0m\n\u001b[1;32m----> 4\u001b[1;33m \u001b[0mmotif\u001b[0m\u001b[1;33m[\u001b[0m\u001b[1;36m0\u001b[0m\u001b[1;33m]\u001b[0m \u001b[1;33m=\u001b[0m \u001b[1;34m'a'\u001b[0m\u001b[1;33m\u001b[0m\u001b[1;33m\u001b[0m\u001b[0m\n\u001b[0m",
      "\u001b[1;31mTypeError\u001b[0m: 'str' object does not support item assignment"
     ]
    }
   ],
   "source": [
    "# !Don't Change an element in a string\n",
    "\n",
    "motif = 'nacgggtca'\n",
    "motif[0] = 'a'"
   ]
  },
  {
   "cell_type": "markdown",
   "metadata": {},
   "source": [
    "## *Slicing Lists*"
   ]
  },
  {
   "cell_type": "code",
   "execution_count": 5,
   "metadata": {},
   "outputs": [
    {
     "data": {
      "text/plain": [
       "[5.16e-08, 0.00138511, 7.33e-08]"
      ]
     },
     "execution_count": 5,
     "metadata": {},
     "output_type": "execute_result"
    }
   ],
   "source": [
    "# Can slice a list [it will create a new list]\n",
    "gene_expression[-3:]"
   ]
  },
  {
   "cell_type": "code",
   "execution_count": 6,
   "metadata": {
    "tags": []
   },
   "outputs": [
    {
     "name": "stdout",
     "output_type": "stream",
     "text": [
      "['Lif', 5.16e-08, 0.00138511, 7.33e-08]\n"
     ]
    }
   ],
   "source": [
    "# Copying a list\n",
    "new_list = gene_expression[:]\n",
    "print(new_list)"
   ]
  },
  {
   "cell_type": "code",
   "execution_count": 7,
   "metadata": {
    "tags": []
   },
   "outputs": [
    {
     "name": "stdout",
     "output_type": "stream",
     "text": [
      "[]\n"
     ]
    }
   ],
   "source": [
    "# Clearing a list\n",
    "new_list[:] = []\n",
    "print(new_list)"
   ]
  },
  {
   "cell_type": "code",
   "execution_count": 8,
   "metadata": {},
   "outputs": [
    {
     "data": {
      "text/plain": [
       "['Lif', 5.16e-08, 0.00138511, 7.33e-08, 5.16e-08, 0.011123]"
      ]
     },
     "execution_count": 8,
     "metadata": {},
     "output_type": "execute_result"
    }
   ],
   "source": [
    "# Concatenation\n",
    "gene_expression += [5.16e-08, 0.011123]\n",
    "gene_expression"
   ]
  },
  {
   "cell_type": "code",
   "execution_count": 9,
   "metadata": {},
   "outputs": [
    {
     "data": {
      "text/plain": [
       "['Lif', 5.16e-08, 0.00138511, 7.33e-08, 0.011123]"
      ]
     },
     "execution_count": 9,
     "metadata": {},
     "output_type": "execute_result"
    }
   ],
   "source": [
    "# deleting a list or list element/s\n",
    "del gene_expression[-2]\n",
    "gene_expression"
   ]
  },
  {
   "cell_type": "markdown",
   "metadata": {},
   "source": [
    "### *List as objects*"
   ]
  },
  {
   "cell_type": "code",
   "execution_count": 10,
   "metadata": {},
   "outputs": [
    {
     "data": {
      "text/plain": [
       "['Lif', 5.16e-08, 0.00138511, 7.33e-08, 0.011123, 0.13, 0.1244]"
      ]
     },
     "execution_count": 10,
     "metadata": {},
     "output_type": "execute_result"
    }
   ],
   "source": [
    "gene_expression.extend([0.13,0.1244])\n",
    "gene_expression"
   ]
  },
  {
   "cell_type": "code",
   "execution_count": 11,
   "metadata": {},
   "outputs": [
    {
     "name": "stdout",
     "output_type": "stream",
     "text": [
      "1 0\n"
     ]
    }
   ],
   "source": [
    "# Count the number of times an element appears in a list\n",
    "print(gene_expression.count('Lif'), gene_expression.count('gene'))"
   ]
  },
  {
   "cell_type": "code",
   "execution_count": 16,
   "metadata": {},
   "outputs": [],
   "source": [
    "# Reverse all the elements in a list\n",
    "gene_expression.reverse()\n",
    "gene_expression\n",
    "#gene_expression.reverse()"
   ]
  },
  {
   "cell_type": "code",
   "execution_count": 17,
   "metadata": {},
   "outputs": [
    {
     "data": {
      "text/plain": [
       "['Lif', 5.16e-08, 0.00138511, 7.33e-08, 0.011123, 0.13, 0.1244, 'gene']"
      ]
     },
     "execution_count": 17,
     "metadata": {},
     "output_type": "execute_result"
    }
   ],
   "source": [
    "# append a element in list\n",
    "gene_expression.append('gene')\n",
    "gene_expression"
   ]
  },
  {
   "cell_type": "markdown",
   "metadata": {},
   "source": [
    "#####  ```Append()``` is for element wise including, ```Extends()``` is for many element wise inlcluding case."
   ]
  },
  {
   "cell_type": "code",
   "execution_count": 19,
   "metadata": {},
   "outputs": [
    {
     "data": {
      "text/plain": [
       "'gene'"
      ]
     },
     "execution_count": 19,
     "metadata": {},
     "output_type": "execute_result"
    }
   ],
   "source": [
    "# Removing last element\n",
    "last_elem = gene_expression.pop()\n",
    "last_elem"
   ]
  },
  {
   "cell_type": "markdown",
   "metadata": {},
   "source": [
    "### *Sorting a list*"
   ]
  },
  {
   "cell_type": "code",
   "execution_count": 22,
   "metadata": {},
   "outputs": [
    {
     "data": {
      "text/plain": [
       "[2, 4, 31, 45]"
      ]
     },
     "execution_count": 22,
     "metadata": {},
     "output_type": "execute_result"
    }
   ],
   "source": [
    "mylist = [2,31,4,45]\n",
    "sorted(mylist)"
   ]
  },
  {
   "cell_type": "code",
   "execution_count": 23,
   "metadata": {},
   "outputs": [
    {
     "data": {
      "text/plain": [
       "[2, 31, 4, 45]"
      ]
     },
     "execution_count": 23,
     "metadata": {},
     "output_type": "execute_result"
    }
   ],
   "source": [
    "mylist\n",
    "# actual variable hasn't changed. In that case we can use sort()"
   ]
  },
  {
   "cell_type": "code",
   "execution_count": 25,
   "metadata": {},
   "outputs": [
    {
     "data": {
      "text/plain": [
       "[2, 4, 31, 45]"
      ]
     },
     "execution_count": 25,
     "metadata": {},
     "output_type": "execute_result"
    }
   ],
   "source": [
    "mylist.sort()\n",
    "mylist"
   ]
  },
  {
   "cell_type": "code",
   "execution_count": 28,
   "metadata": {},
   "outputs": [],
   "source": [
    "dna = ['A','t', 'c', 'g','a', 'T']"
   ]
  },
  {
   "cell_type": "code",
   "execution_count": 29,
   "metadata": {},
   "outputs": [
    {
     "data": {
      "text/plain": [
       "['A', 'T', 'a', 'c', 'g', 't']"
      ]
     },
     "execution_count": 29,
     "metadata": {},
     "output_type": "execute_result"
    }
   ],
   "source": [
    "sorted(dna)"
   ]
  },
  {
   "cell_type": "code",
   "execution_count": 31,
   "metadata": {},
   "outputs": [
    {
     "data": {
      "text/plain": [
       "['A', 'T', 'a', 'c', 'g', 't']"
      ]
     },
     "execution_count": 31,
     "metadata": {},
     "output_type": "execute_result"
    }
   ],
   "source": [
    "dna.sort()\n",
    "dna"
   ]
  },
  {
   "cell_type": "markdown",
   "metadata": {},
   "source": [
    "# *Tuple*\n",
    "### A tuple consists of a number of values separated by commas, and is another standard sequence data type, like strings and lists."
   ]
  },
  {
   "cell_type": "code",
   "execution_count": 33,
   "metadata": {},
   "outputs": [
    {
     "name": "stdout",
     "output_type": "stream",
     "text": [
      "(1, 2, 3)\n",
      "(1, 2, 3)\n"
     ]
    }
   ],
   "source": [
    "t = 1,2,3\n",
    "print(t)\n",
    "t_ = (1,2,3)\n",
    "print(t_)\n",
    "# both are same"
   ]
  },
  {
   "cell_type": "markdown",
   "metadata": {},
   "source": [
    "# *Sets*\n",
    "#### A set is an unordered collection with no duplicate elements. Set Objects support mathematical operations like union, intersections and difference."
   ]
  },
  {
   "cell_type": "code",
   "execution_count": 43,
   "metadata": {},
   "outputs": [
    {
     "data": {
      "text/plain": [
       "{'DNA Repair',\n",
       " 'DNA building',\n",
       " 'protein ubiquitination',\n",
       " 'ubiquitin-protein transferase activity',\n",
       " 'zinc ion binding'}"
      ]
     },
     "execution_count": 43,
     "metadata": {},
     "output_type": "execute_result"
    }
   ],
   "source": [
    "brca1 = {'DNA Repair','zinc ion binding','DNA building','ubiquitin-protein transferase activity',\n",
    "         'DNA Repair', 'protein ubiquitination'}\n",
    "# all duplicates will be removed\n",
    "brca1"
   ]
  },
  {
   "cell_type": "code",
   "execution_count": 44,
   "metadata": {},
   "outputs": [],
   "source": [
    "brca2 = {'protein binding', 'H4 histone acetyltransferase activity', 'nucleoplasm', 'DNA Repair'\n",
    "        , 'double-strand break repair', 'double-strand break repair via homologous recombination'}\n"
   ]
  },
  {
   "cell_type": "markdown",
   "metadata": {},
   "source": [
    "### Operations with Sets"
   ]
  },
  {
   "cell_type": "code",
   "execution_count": 45,
   "metadata": {},
   "outputs": [
    {
     "data": {
      "text/plain": [
       "{'DNA Repair',\n",
       " 'DNA building',\n",
       " 'H4 histone acetyltransferase activity',\n",
       " 'double-strand break repair',\n",
       " 'double-strand break repair via homologous recombination',\n",
       " 'nucleoplasm',\n",
       " 'protein binding',\n",
       " 'protein ubiquitination',\n",
       " 'ubiquitin-protein transferase activity',\n",
       " 'zinc ion binding'}"
      ]
     },
     "execution_count": 45,
     "metadata": {},
     "output_type": "execute_result"
    }
   ],
   "source": [
    "brca1 | brca2\n",
    "# | operator will return union"
   ]
  },
  {
   "cell_type": "markdown",
   "metadata": {},
   "source": [
    "- ```a | b``` ~ ```UNION```\n",
    "- ```a & n ``` ~ ```INTERSECTION```\n",
    "- ```a - b ``` ~ ```DIFFERENCE```"
   ]
  },
  {
   "cell_type": "code",
   "execution_count": 46,
   "metadata": {},
   "outputs": [
    {
     "data": {
      "text/plain": [
       "{'DNA Repair'}"
      ]
     },
     "execution_count": 46,
     "metadata": {},
     "output_type": "execute_result"
    }
   ],
   "source": [
    "brca1 & brca2"
   ]
  },
  {
   "cell_type": "code",
   "execution_count": 47,
   "metadata": {},
   "outputs": [
    {
     "data": {
      "text/plain": [
       "{'DNA building',\n",
       " 'protein ubiquitination',\n",
       " 'ubiquitin-protein transferase activity',\n",
       " 'zinc ion binding'}"
      ]
     },
     "execution_count": 47,
     "metadata": {},
     "output_type": "execute_result"
    }
   ],
   "source": [
    "brca1 - brca2"
   ]
  },
  {
   "cell_type": "markdown",
   "metadata": {},
   "source": [
    "# *Dictionary*\n",
    "#### *A dictionary is an unordered set of key and value pairs, with the requirements that the keys are unique(within one dictionary)*"
   ]
  },
  {
   "cell_type": "markdown",
   "metadata": {},
   "source": [
    "```keys```: can be any immutable type e.g strings, numbers<br>\n",
    "```values```: can be any type"
   ]
  },
  {
   "cell_type": "code",
   "execution_count": 55,
   "metadata": {},
   "outputs": [],
   "source": [
    "TF_motif = {\n",
    "    'SP1' : 'gggcgg',\n",
    "    'C/EBP': 'attgcgcaat',\n",
    "    'ATF': 'tgacgtca',\n",
    "    'c-Myc': 'cacgtg',\n",
    "    'oct-1': 'atgcaaat'\n",
    "}"
   ]
  },
  {
   "cell_type": "code",
   "execution_count": 56,
   "metadata": {},
   "outputs": [
    {
     "data": {
      "text/plain": [
       "{'SP1': 'gggcgg',\n",
       " 'C/EBP': 'attgcgcaat',\n",
       " 'ATF': 'tgacgtca',\n",
       " 'c-Myc': 'cacgtg',\n",
       " 'oct-1': 'atgcaaat'}"
      ]
     },
     "execution_count": 56,
     "metadata": {},
     "output_type": "execute_result"
    }
   ],
   "source": [
    "TF_motif"
   ]
  },
  {
   "cell_type": "code",
   "execution_count": 57,
   "metadata": {},
   "outputs": [
    {
     "data": {
      "text/plain": [
       "'tgacgtca'"
      ]
     },
     "execution_count": 57,
     "metadata": {},
     "output_type": "execute_result"
    }
   ],
   "source": [
    "TF_motif['ATF']"
   ]
  },
  {
   "cell_type": "code",
   "execution_count": 58,
   "metadata": {},
   "outputs": [
    {
     "ename": "KeyError",
     "evalue": "'ag'",
     "output_type": "error",
     "traceback": [
      "\u001b[1;31m---------------------------------------------------------------------------\u001b[0m",
      "\u001b[1;31mKeyError\u001b[0m                                  Traceback (most recent call last)",
      "\u001b[1;32m<ipython-input-58-a3b3f281b2ae>\u001b[0m in \u001b[0;36m<module>\u001b[1;34m\u001b[0m\n\u001b[0;32m      1\u001b[0m \u001b[1;31m# searching a key that is not present\u001b[0m\u001b[1;33m\u001b[0m\u001b[1;33m\u001b[0m\u001b[1;33m\u001b[0m\u001b[0m\n\u001b[1;32m----> 2\u001b[1;33m \u001b[0mTF_motif\u001b[0m\u001b[1;33m[\u001b[0m\u001b[1;34m'ag'\u001b[0m\u001b[1;33m]\u001b[0m\u001b[1;33m\u001b[0m\u001b[1;33m\u001b[0m\u001b[0m\n\u001b[0m",
      "\u001b[1;31mKeyError\u001b[0m: 'ag'"
     ]
    }
   ],
   "source": [
    "# searching a key that is not present\n",
    "TF_motif['ag']"
   ]
  },
  {
   "cell_type": "code",
   "execution_count": 60,
   "metadata": {},
   "outputs": [
    {
     "data": {
      "text/plain": [
       "False"
      ]
     },
     "execution_count": 60,
     "metadata": {},
     "output_type": "execute_result"
    }
   ],
   "source": [
    "'ag' in TF_motif\n",
    "## it will in binary format"
   ]
  },
  {
   "cell_type": "code",
   "execution_count": 61,
   "metadata": {},
   "outputs": [
    {
     "data": {
      "text/plain": [
       "{'SP1': 'gggcgg',\n",
       " 'C/EBP': 'attgcgcaat',\n",
       " 'ATF': 'tgacgtca',\n",
       " 'c-Myc': 'cacgtg',\n",
       " 'oct-1': 'atgcaaat',\n",
       " 'AP-1': 'tgagtca'}"
      ]
     },
     "execution_count": 61,
     "metadata": {},
     "output_type": "execute_result"
    }
   ],
   "source": [
    "TF_motif['AP-1'] = 'tgagtca'\n",
    "TF_motif"
   ]
  },
  {
   "cell_type": "code",
   "execution_count": 62,
   "metadata": {},
   "outputs": [
    {
     "data": {
      "text/plain": [
       "{'SP1': 'gggcgg',\n",
       " 'C/EBP': 'attgcgcaat',\n",
       " 'ATF': 'tgacgtca',\n",
       " 'c-Myc': 'cacgtg',\n",
       " 'oct-1': 'atgcaaat',\n",
       " 'AP-1': 'tgagtca/cgat'}"
      ]
     },
     "execution_count": 62,
     "metadata": {},
     "output_type": "execute_result"
    }
   ],
   "source": [
    "# modifying value in a key\n",
    "TF_motif['AP-1'] = 'tgagtca/cgat'\n",
    "TF_motif"
   ]
  },
  {
   "cell_type": "code",
   "execution_count": 63,
   "metadata": {},
   "outputs": [
    {
     "data": {
      "text/plain": [
       "{'C/EBP': 'attgcgcaat',\n",
       " 'ATF': 'tgacgtca',\n",
       " 'c-Myc': 'cacgtg',\n",
       " 'oct-1': 'atgcaaat',\n",
       " 'AP-1': 'tgagtca/cgat'}"
      ]
     },
     "execution_count": 63,
     "metadata": {},
     "output_type": "execute_result"
    }
   ],
   "source": [
    "# deleting a key-value pair\n",
    "del TF_motif['SP1']\n",
    "TF_motif"
   ]
  },
  {
   "cell_type": "code",
   "execution_count": 64,
   "metadata": {},
   "outputs": [],
   "source": [
    "# Add nother dictionary to the current one\n",
    "up_dict = {'SP1': 'gggcgg',\n",
    "          'C/EBP' : 'attgcgcaat',\n",
    "           'Oct-1' : 'atgcaaa'\n",
    "          }\n",
    "\n",
    "TF_motif.update(up_dict)"
   ]
  },
  {
   "cell_type": "code",
   "execution_count": 65,
   "metadata": {},
   "outputs": [
    {
     "data": {
      "text/plain": [
       "{'C/EBP': 'attgcgcaat',\n",
       " 'ATF': 'tgacgtca',\n",
       " 'c-Myc': 'cacgtg',\n",
       " 'oct-1': 'atgcaaat',\n",
       " 'AP-1': 'tgagtca/cgat',\n",
       " 'SP1': 'gggcgg',\n",
       " 'Oct-1': 'atgcaaa'}"
      ]
     },
     "execution_count": 65,
     "metadata": {},
     "output_type": "execute_result"
    }
   ],
   "source": [
    "TF_motif"
   ]
  },
  {
   "cell_type": "code",
   "execution_count": 66,
   "metadata": {},
   "outputs": [
    {
     "data": {
      "text/plain": [
       "7"
      ]
     },
     "execution_count": 66,
     "metadata": {},
     "output_type": "execute_result"
    }
   ],
   "source": [
    "# len of a dict, key-value pair\n",
    "len(TF_motif)"
   ]
  },
  {
   "cell_type": "code",
   "execution_count": 67,
   "metadata": {},
   "outputs": [
    {
     "data": {
      "text/plain": [
       "dict_keys(['C/EBP', 'ATF', 'c-Myc', 'oct-1', 'AP-1', 'SP1', 'Oct-1'])"
      ]
     },
     "execution_count": 67,
     "metadata": {},
     "output_type": "execute_result"
    }
   ],
   "source": [
    "# getting all keys\n",
    "TF_motif.keys()"
   ]
  },
  {
   "cell_type": "code",
   "execution_count": 68,
   "metadata": {},
   "outputs": [
    {
     "data": {
      "text/plain": [
       "dict_values(['attgcgcaat', 'tgacgtca', 'cacgtg', 'atgcaaat', 'tgagtca/cgat', 'gggcgg', 'atgcaaa'])"
      ]
     },
     "execution_count": 68,
     "metadata": {},
     "output_type": "execute_result"
    }
   ],
   "source": [
    "# getting all values\n",
    "TF_motif.values()"
   ]
  },
  {
   "cell_type": "code",
   "execution_count": 70,
   "metadata": {},
   "outputs": [
    {
     "data": {
      "text/plain": [
       "['attgcgcaat',\n",
       " 'tgacgtca',\n",
       " 'cacgtg',\n",
       " 'atgcaaat',\n",
       " 'tgagtca/cgat',\n",
       " 'gggcgg',\n",
       " 'atgcaaa']"
      ]
     },
     "execution_count": 70,
     "metadata": {},
     "output_type": "execute_result"
    }
   ],
   "source": [
    "list(TF_motif.values())"
   ]
  },
  {
   "cell_type": "code",
   "execution_count": 71,
   "metadata": {},
   "outputs": [
    {
     "data": {
      "text/plain": [
       "['AP-1', 'ATF', 'C/EBP', 'Oct-1', 'SP1', 'c-Myc', 'oct-1']"
      ]
     },
     "execution_count": 71,
     "metadata": {},
     "output_type": "execute_result"
    }
   ],
   "source": [
    "sorted(TF_motif.keys())"
   ]
  },
  {
   "cell_type": "code",
   "execution_count": 72,
   "metadata": {},
   "outputs": [
    {
     "data": {
      "text/plain": [
       "['atgcaaa',\n",
       " 'atgcaaat',\n",
       " 'attgcgcaat',\n",
       " 'cacgtg',\n",
       " 'gggcgg',\n",
       " 'tgacgtca',\n",
       " 'tgagtca/cgat']"
      ]
     },
     "execution_count": 72,
     "metadata": {},
     "output_type": "execute_result"
    }
   ],
   "source": [
    "sorted(TF_motif.values())"
   ]
  },
  {
   "cell_type": "markdown",
   "metadata": {},
   "source": [
    "# *Ifs and Loops*"
   ]
  },
  {
   "cell_type": "code",
   "execution_count": 73,
   "metadata": {},
   "outputs": [
    {
     "name": "stdout",
     "output_type": "stream",
     "text": [
      "Enter DNA sequence:agcgcgggtatatatgcnccann\n"
     ]
    }
   ],
   "source": [
    "dna = input('Enter DNA sequence:' )"
   ]
  },
  {
   "cell_type": "code",
   "execution_count": 74,
   "metadata": {},
   "outputs": [
    {
     "name": "stdout",
     "output_type": "stream",
     "text": [
      "dna sequence has 3 undefined bases \n"
     ]
    }
   ],
   "source": [
    "if 'n' in dna:\n",
    "    nbases = dna.count('n')\n",
    "    print('dna sequence has %d undefined bases ' % nbases)"
   ]
  },
  {
   "cell_type": "code",
   "execution_count": 75,
   "metadata": {},
   "outputs": [
    {
     "data": {
      "text/plain": [
       "False"
      ]
     },
     "execution_count": 75,
     "metadata": {},
     "output_type": "execute_result"
    }
   ],
   "source": [
    "'a' == 'A'"
   ]
  },
  {
   "cell_type": "code",
   "execution_count": 76,
   "metadata": {},
   "outputs": [
    {
     "data": {
      "text/plain": [
       "True"
      ]
     },
     "execution_count": 76,
     "metadata": {},
     "output_type": "execute_result"
    }
   ],
   "source": [
    "'GT' != 'AG'"
   ]
  },
  {
   "cell_type": "code",
   "execution_count": 78,
   "metadata": {},
   "outputs": [
    {
     "data": {
      "text/plain": [
       "True"
      ]
     },
     "execution_count": 78,
     "metadata": {},
     "output_type": "execute_result"
    }
   ],
   "source": [
    "'A' < 'C'"
   ]
  },
  {
   "cell_type": "markdown",
   "metadata": {},
   "source": [
    "```Membership Operators``` - ```in, not in```"
   ]
  },
  {
   "cell_type": "code",
   "execution_count": 81,
   "metadata": {},
   "outputs": [
    {
     "data": {
      "text/plain": [
       "True"
      ]
     },
     "execution_count": 81,
     "metadata": {},
     "output_type": "execute_result"
    }
   ],
   "source": [
    "motif = 'gtccc'\n",
    "dna = 'atatattgtcccattt'\n",
    "\n",
    "motif in dna"
   ]
  },
  {
   "cell_type": "markdown",
   "metadata": {},
   "source": [
    "```Identity Operators``` - ```is , is not``` ~ True if the variables on either side of the operator point to the same object and false otherwise and is not is opposite."
   ]
  },
  {
   "cell_type": "code",
   "execution_count": 84,
   "metadata": {},
   "outputs": [],
   "source": [
    "alphabet = ['a', 'c','g', 't']\n",
    "new_alphabet = alphabet[:]"
   ]
  },
  {
   "cell_type": "code",
   "execution_count": 85,
   "metadata": {},
   "outputs": [
    {
     "data": {
      "text/plain": [
       "True"
      ]
     },
     "execution_count": 85,
     "metadata": {},
     "output_type": "execute_result"
    }
   ],
   "source": [
    "alphabet == new_alphabet"
   ]
  },
  {
   "cell_type": "code",
   "execution_count": 87,
   "metadata": {},
   "outputs": [
    {
     "data": {
      "text/plain": [
       "False"
      ]
     },
     "execution_count": 87,
     "metadata": {},
     "output_type": "execute_result"
    }
   ],
   "source": [
    "alphabet is new_alphabet\n",
    "\n",
    "# it is because both are carried in different memory location although their elements are same"
   ]
  },
  {
   "cell_type": "markdown",
   "metadata": {},
   "source": [
    "#### *Logical Operator*\n",
    "```and``` ~ True if both condition are true <br>\n",
    "```or``` ~ True if at least one condition is true <br>\n",
    "```not``` ~ True if condition is false"
   ]
  },
  {
   "cell_type": "markdown",
   "metadata": {},
   "source": [
    "### *Loop*\n",
    "```for``` ```while```"
   ]
  },
  {
   "cell_type": "code",
   "execution_count": 90,
   "metadata": {},
   "outputs": [
    {
     "name": "stdout",
     "output_type": "stream",
     "text": [
      "Enter DNA sequence: gtcggatcgttaacgttaacccccgggtttaacccttgg\n",
      "Donor splice site candidate at position 0\n",
      "Donor splice site candidate at position 8\n",
      "Donor splice site candidate at position 14\n",
      "Donor splice site candidate at position 26\n"
     ]
    }
   ],
   "source": [
    "dna = input('Enter DNA sequence: ')\n",
    "pos = dna.find('gt',0) # position of donor splice site\n",
    "\n",
    "while pos > -1:\n",
    "    print('Donor splice site candidate at position %d' %pos)\n",
    "    pos = dna.find('gt', pos+1)"
   ]
  },
  {
   "cell_type": "markdown",
   "metadata": {},
   "source": [
    "### The for Loop\n",
    "##### Python's for loop iterates over the items of any sequence (a list or a string), in the order that they appear in the sequence."
   ]
  },
  {
   "cell_type": "code",
   "execution_count": 92,
   "metadata": {},
   "outputs": [
    {
     "name": "stdout",
     "output_type": "stream",
     "text": [
      "attcccgt 8\n",
      "agggggtttttcg 13\n",
      "gtagc 5\n"
     ]
    }
   ],
   "source": [
    "motifs = ['attcccgt', 'agggggtttttcg', 'gtagc']\n",
    "\n",
    "for m in motifs:\n",
    "    print(m, len(m))"
   ]
  },
  {
   "cell_type": "code",
   "execution_count": 93,
   "metadata": {},
   "outputs": [
    {
     "name": "stdout",
     "output_type": "stream",
     "text": [
      "0\n",
      "1\n",
      "2\n",
      "3\n"
     ]
    }
   ],
   "source": [
    "for i in range(4):\n",
    "    print(i)"
   ]
  },
  {
   "cell_type": "code",
   "execution_count": 94,
   "metadata": {},
   "outputs": [
    {
     "name": "stdout",
     "output_type": "stream",
     "text": [
      "100\n",
      "113\n",
      "126\n",
      "139\n",
      "152\n",
      "165\n",
      "178\n",
      "191\n"
     ]
    }
   ],
   "source": [
    "for i in range(100,200,13):\n",
    "    print(i)"
   ]
  },
  {
   "cell_type": "code",
   "execution_count": 95,
   "metadata": {},
   "outputs": [
    {
     "name": "stdout",
     "output_type": "stream",
     "text": [
      "protein contains invalid amino acid I at position 3\n",
      "protein contains invalid amino acid U at position 8\n",
      "protein contains invalid amino acid U at position 9\n"
     ]
    }
   ],
   "source": [
    "protein = 'SDVIHRYKUUPAKSHGWYVCJRSRFTWMVWWRFRSCRA'\n",
    "for i in range(len(protein)):\n",
    "    if protein[i] not in 'ABCDEFGHJKLMNPQRSTVWXYZ':\n",
    "        print('protein contains invalid amino acid %s at position %d' %(protein[i],i))"
   ]
  },
  {
   "cell_type": "code",
   "execution_count": 96,
   "metadata": {},
   "outputs": [
    {
     "name": "stdout",
     "output_type": "stream",
     "text": [
      "protein contains invalid amino acid I at position 3\n"
     ]
    }
   ],
   "source": [
    "protein = 'SDVIHRYKUUPAKSHGWYVCJRSRFTWMVWWRFRSCRA'\n",
    "for i in range(len(protein)):\n",
    "    if protein[i] not in 'ABCDEFGHJKLMNPQRSTVWXYZ':\n",
    "        print('protein contains invalid amino acid %s at position %d' %(protein[i],i))\n",
    "        break\n",
    "# break where is false"
   ]
  },
  {
   "cell_type": "code",
   "execution_count": 97,
   "metadata": {},
   "outputs": [
    {
     "name": "stdout",
     "output_type": "stream",
     "text": [
      "['S', 'D', 'V', 'H', 'R', 'Y', 'K', 'P', 'A', 'K', 'S', 'H', 'G', 'W', 'Y', 'V', 'C', 'J', 'R', 'S', 'R', 'F', 'T', 'W', 'M', 'V', 'W', 'W', 'R', 'F', 'R', 'S', 'C', 'R', 'A']\n"
     ]
    }
   ],
   "source": [
    "protein = 'SDVIHRYKUUPAKSHGWYVCJRSRFTWMVWWRFRSCRA'\n",
    "corrected_protein = []\n",
    "for i in range(len(protein)):\n",
    "    if protein[i] not in 'ABCDEFGHJKLMNPQRSTVWXYZ':\n",
    "        continue\n",
    "    corrected_protein += protein[i]\n",
    "    \n",
    "print(corrected_protein)\n",
    "        "
   ]
  },
  {
   "cell_type": "markdown",
   "metadata": {},
   "source": [
    "# *Functions*"
   ]
  },
  {
   "cell_type": "code",
   "execution_count": null,
   "metadata": {},
   "outputs": [],
   "source": []
  }
 ],
 "metadata": {
  "kernelspec": {
   "display_name": "Python 3",
   "language": "python",
   "name": "python3"
  },
  "language_info": {
   "codemirror_mode": {
    "name": "ipython",
    "version": 3
   },
   "file_extension": ".py",
   "mimetype": "text/x-python",
   "name": "python",
   "nbconvert_exporter": "python",
   "pygments_lexer": "ipython3",
   "version": "3.7.6"
  }
 },
 "nbformat": 4,
 "nbformat_minor": 2
}
